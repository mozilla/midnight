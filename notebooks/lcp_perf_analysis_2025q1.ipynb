{
  "nbformat": 4,
  "nbformat_minor": 0,
  "metadata": {
    "colab": {
      "provenance": [],
      "collapsed_sections": [
        "LFqBjHK32nbE",
        "-Ty8IIYKAJ_4",
        "-A6yYy-p-5Ik"
      ],
      "toc_visible": true,
      "include_colab_link": true
    },
    "kernelspec": {
      "name": "python3",
      "display_name": "Python 3"
    },
    "language_info": {
      "name": "python"
    }
  },
  "cells": [
    {
      "cell_type": "markdown",
      "metadata": {
        "id": "view-in-github",
        "colab_type": "text"
      },
      "source": [
        "<a href=\"https://colab.research.google.com/github/bdekoz/midnight.sfo-2025-02.1/blob/main/notebooks/lcp_perf_analysis_2025q1.ipynb\" target=\"_parent\"><img src=\"https://colab.research.google.com/assets/colab-badge.svg\" alt=\"Open In Colab\"/></a>"
      ]
    },
    {
      "cell_type": "markdown",
      "source": [
        "Performance analysis concentrating on understanding the current state of the Largest Contentful Paint (LCP) metric, and how it correlates and compares to existing NavigationTiming and Visual metrics.\n",
        "\n",
        "Experimental data was collected between (2025-02-07, 11), on a wireless connection in SFO/149 NMG room 546. The Chrome () and Firefox browsers (nightly as of 20250204) were hosted on Android 15, the browsertime testing framework was used in combination with [sitelists generated](https://github.com/bdekoz/mozilla-data-sitelists/blob/main/docs/sitelist_generation.md) from CrUX.\n",
        "\n",
        "Two devices were used: a rooted Pixel 8 (shiba), and a rooted Google Tablet (tangor). Setup [details](https://sunglint.wordpress.com/2024/05/22/android-2024-devices/)\n",
        "\n",
        "[github repo 1](https://github.com/bdekoz/midnight.sfo-2025-02.1)\n",
        "\n",
        "[github repo 2](https://github.com/bdekoz/midnight.sfo-2025-02.2)\n",
        "\n"
      ],
      "metadata": {
        "id": "di5t-K9rJhBJ"
      }
    },
    {
      "cell_type": "markdown",
      "source": [],
      "metadata": {
        "id": "B2fgs2YyuTwd"
      }
    },
    {
      "cell_type": "code",
      "execution_count": 2,
      "metadata": {
        "id": "wS2Ja2iN2JR0",
        "colab": {
          "base_uri": "https://localhost:8080/"
        },
        "outputId": "5364b371-f3d4-4e53-b8f2-d22baec88f7b",
        "cellView": "form"
      },
      "outputs": [
        {
          "output_type": "stream",
          "name": "stdout",
          "text": [
            "Mounted at /content/drive/\n"
          ]
        }
      ],
      "source": [
        "#@title setup, static and constant data\n",
        "import json\n",
        "import os\n",
        "import requests\n",
        "\n",
        "from google.cloud import bigquery\n",
        "from datetime import datetime, timedelta\n",
        "from re import sub\n",
        "from os import path\n",
        "from google.colab import auth\n",
        "auth.authenticate_user()\n",
        "\n",
        "# Mount Google Drive\n",
        "from google.colab import drive\n",
        "gdrive = '/content/drive/'\n",
        "gdriveprefix = gdrive + 'My Drive/Colab Notebooks/'\n",
        "drive.mount(gdrive, force_remount=True)\n",
        "\n",
        "# use interactive tables\n",
        "from google.colab import data_table\n",
        "data_table.enable_dataframe_formatter()\n",
        "\n",
        "\n",
        "import datetime\n",
        "import time\n",
        "import hashlib\n",
        "import pandas as pd\n",
        "import numpy as np\n",
        "import seaborn as sns\n",
        "import matplotlib.pylab as plt\n",
        "from scipy.stats import ttest_ind\n",
        "from scipy.stats import ks_2samp\n",
        "from scipy.stats import mannwhitneyu\n",
        "\n",
        "pd.set_option('display.width', 1920)\n",
        "pd.set_option('display.max_columns', None)\n",
        "pd.set_option('display.max_rows', None)\n",
        "pd.set_option('display.max_colwidth', None)\n",
        "\n",
        "# useful constants\n",
        "tab = \"\\t\";\n",
        "newline = \"\\n\";\n",
        "\n",
        "\n",
        "\n",
        "# data file locations\n",
        "# 2.1 is baseline tp6m\n",
        "# 2.2 is baseline tp6m with a11y on\n",
        "data1_file ='https://raw.githubusercontent.com/bdekoz/midnight.sfo-2025-02.1/main/results/2025-02-11/data.json'\n",
        "data2_file ='https://raw.githubusercontent.com/bdekoz/midnight.sfo-2025-02.2/main/results/2025-02-13/data.json'\n",
        "\n",
        "\n"
      ]
    },
    {
      "cell_type": "code",
      "execution_count": 3,
      "metadata": {
        "id": "SeMOBhodDTEV",
        "cellView": "form"
      },
      "outputs": [],
      "source": [
        "#@title percentage(numerator, denom) / percentage_change(one, two) / deserialize_csv(csvfile)\n",
        "\n",
        "def percentage(part, whole):\n",
        "  Percentage = 100 * float(part)/float(whole)\n",
        "  return str(int(round(Percentage,0))) + '%'\n",
        "\n",
        "def percentage_change(col1, col2):\n",
        "  return (((col2 - col1) / col1) * 100)\n",
        "\n",
        "\n",
        "def deserialize_csv(csvfile):\n",
        "    # null values as empty string\n",
        "    # df = pd.read_csv(csvfile, sep='|', keep_default_na=False);\n",
        "    # null values as 0.0\n",
        "    df = pd.read_csv(csvfile, sep='|').fillna(value = 0.0);\n",
        "    df.set_index(df.columns[0]) #set the first column as the index\n",
        "    df_len = len(df.index);\n",
        "    #print(\"dataframe rows: \" + str(df_len));\n",
        "    return df;\n",
        "\n"
      ]
    },
    {
      "cell_type": "code",
      "source": [
        "#@title deserialize_json(jfile) / deserialize_json_metrics_by_browser / content_traits_active_count / content_traits_active_p / deserialize_json_metrics_by_browser_if\n",
        "\n",
        "# simple, all pandas\n",
        "def deserialize_json(jfile):\n",
        "    # null values as empty string\n",
        "    # df = pd.read_csv(csvfile, sep='|', keep_default_na=False);\n",
        "    # null values as 0.0\n",
        "    df = pd.read_json(jfile)\n",
        "    df.set_index('test') #set the json field 'test' as the index\n",
        "    df_len = len(df.index);\n",
        "    #print(\"dataframe rows: \" + str(df_len));\n",
        "    return df;\n",
        "\n",
        "\n",
        "# Assume jfile is a json file that is an aggregate of pageload data\n",
        "# collected from a set of URLS, matching existing midnight schema.\n",
        "def deserialize_json_metrics_by_browser(jfile, browser):\n",
        "    # 1 local file\n",
        "    #with open(jfile, \"r\") as file:\n",
        "    #  data = json.load(file)\n",
        "\n",
        "    # 2 github repo URL\n",
        "    response = requests.get(jfile)\n",
        "    data = response.json()\n",
        "\n",
        "    # either walk json and add it here or flatten json with json_normalize\n",
        "    metric_data = {}\n",
        "    for item in data:\n",
        "      test_data = {}\n",
        "      url_mini = item['test']\n",
        "\n",
        "      metrics_array = item[browser]['metrics']\n",
        "      lcpe_data = metrics_array['lcp_element']\n",
        "\n",
        "      # Only extract metrics with 'median' fields from the JSON\n",
        "      metric_only = {key: value[\"median\"] for key, value in metrics_array.items() if isinstance(value, dict) and \"median\" in value}\n",
        "      test_data.update(metric_only)\n",
        "      # Add lcp element\n",
        "      test_data['lcp_element'] = lcpe_data\n",
        "\n",
        "      metric_data[url_mini] = test_data\n",
        "\n",
        "    df = pd.DataFrame(metric_data)\n",
        "    df = df.transpose()\n",
        "    df = df.rename(columns={\"largestContentfulPaintloadTime\": \"lcp_load\", \"largestContentfulPaintrenderTime\": \"lcp_render\"})\n",
        "    #df.columns.values[0] = \"url_mini\"\n",
        "    #df.set_index('test') #set the json field test as the index\n",
        "    df_len = len(df.index);\n",
        "    print(\"dataframe rows: \" + str(df_len));\n",
        "    return df;\n",
        "\n",
        "\n",
        "# Number of fields of the url_content_traits object that have a non-zero value.\n",
        "def content_traits_active_count(data):\n",
        "  count = 0\n",
        "  for key, value in data.items():\n",
        "      if value != 0:\n",
        "        count += 1\n",
        "  return count;\n",
        "\n",
        "  # Number of fields of the url_content_traits object that have a non-zero value.\n",
        "def content_traits_active_p(data, trait):\n",
        "  b = data[trait] != 0;\n",
        "  return b;\n",
        "\n",
        "\n",
        "# Assume jfile is a json file that is an aggregate of pageload data\n",
        "# collected from a set of URLS, matching existing midnight schema.\n",
        "def deserialize_json_metrics_by_browser_if(jfile, browser, trait):\n",
        "    # 1 local file\n",
        "    #with open(jfile, \"r\") as file:\n",
        "    #  data = json.load(file)\n",
        "\n",
        "    # 2 github repo URL\n",
        "    response = requests.get(jfile)\n",
        "    data = response.json()\n",
        "\n",
        "    # either walk json and add it here or flatten json with json_normalize\n",
        "    metric_data = {}\n",
        "    for item in data:\n",
        "      test_data = {}\n",
        "      url_mini = item['test']\n",
        "      traits_dict = item['url_content_traits']\n",
        "\n",
        "      if not content_traits_active_p(traits_dict, trait):\n",
        "        continue\n",
        "\n",
        "      metrics_array = item[browser]['metrics']\n",
        "      lcpe_data = metrics_array['lcp_element']\n",
        "\n",
        "      # Only extract metrics with 'median' fields from the JSON\n",
        "      metric_only = {key: value[\"median\"] for key, value in metrics_array.items() if isinstance(value, dict) and \"median\" in value}\n",
        "      test_data.update(metric_only)\n",
        "      # Add lcp element\n",
        "      test_data['lcp_element'] = lcpe_data\n",
        "\n",
        "      metric_data[url_mini] = test_data\n",
        "\n",
        "    df = pd.DataFrame(metric_data)\n",
        "    df = df.transpose()\n",
        "    df = df.rename(columns={\"largestContentfulPaintloadTime\": \"lcp_load\", \"largestContentfulPaintrenderTime\": \"lcp_render\"})\n",
        "    #df.columns.values[0] = \"url_mini\"\n",
        "    #df.set_index('test') #set the json field test as the index\n",
        "    df_len = len(df.index);\n",
        "    print(\"dataframe rows: \" + str(df_len));\n",
        "    return df;\n"
      ],
      "metadata": {
        "id": "-LXk3gO4GG1U",
        "cellView": "form"
      },
      "execution_count": 4,
      "outputs": []
    },
    {
      "cell_type": "code",
      "source": [
        "#@title compare_2_lcp_elements / compare_4_lcp_elements / compare_2_lcp_values\n",
        "\n",
        "# Compare two data frames for LCP element matching\n",
        "def compare_2_lcp_elements(df1, df2):\n",
        "\n",
        "  # error check data frame sizes, which should match\n",
        "  if len(df1.index) != len(df2.index):\n",
        "    print(\"Exiting, dataframes have different indexes\");\n",
        "  dflen = len(df1.index);\n",
        "\n",
        "  #dfbool = df2.columns[lcp-element] != df1.columns[lcp-element];\n",
        "  dflcpe = df2[\"lcp_element\"] == df1[\"lcp_element\"];\n",
        "  lcpe_same = dflcpe.sum();\n",
        "  lcpmatch = percentage(lcpe_same, dflen);\n",
        "  return lcpmatch;\n",
        "\n",
        "\n",
        "# Compare four data frames for LCP element matching\n",
        "def compare_4_lcp_elements(df1, df2, df3, df4):\n",
        "  # error check input data frames\n",
        "  if len(df1.index) != len(df2.index) != len(df3.index) != len(df4.index):\n",
        "    print(\"Exiting, dataframes have different indexes\");\n",
        "  dflen = len(df1.index);\n",
        "\n",
        "  dflcpe1 = df1[\"lcp_element\"] == df2[\"lcp_element\"];\n",
        "  dflcpe2 = df3[\"lcp_element\"] == df4[\"lcp_element\"];\n",
        "  dflcpe = dflcpe1 & dflcpe2;\n",
        "  lcpe_same = dflcpe.sum();\n",
        "\n",
        "  lcpmatch = percentage(lcpe_same, dflen);\n",
        "  return lcpmatch;\n",
        "\n",
        "\n",
        "# Compare two data frames (with LCP element matching) for LCPrender times\n",
        "def compare_2_lcp_values(df1, df2):\n",
        "  df1_lcpr = pd.to_numeric(df1[\"lcp_render\"], errors='coerce') # Convert to numeric, handle errors\n",
        "  df2_lcpr = pd.to_numeric(df2[\"lcp_render\"], errors='coerce') # Convert to numeric, handle errors\n",
        "\n",
        "  #print(df1_lcpr.head(10))\n",
        "  print(\"firefox lcp render min/max/median\");\n",
        "  print(df1_lcpr.min())\n",
        "  print(df1_lcpr.max())\n",
        "  print(df1_lcpr.median())\n",
        "  print(\"\\n\")\n",
        "\n",
        "  #print(df2_lcpr.head(10))\n",
        "  print(\"chrome lcp render min/max/median\");\n",
        "  print(df2_lcpr.min())\n",
        "  print(df2_lcpr.max())\n",
        "  print(df2_lcpr.median())\n",
        "  print(\"\\n\")\n",
        "\n",
        "  #dfpchange = percentage_change(df1[\"lcp-render\"], df2[\"lcp-render\"])\n",
        "  dfpchange = percentage_change(df1_lcpr, df2_lcpr)\n",
        "  dfpchangesort = dfpchange.sort_values(ascending=False)\n",
        "  #print(\"firefox/chrome % change: \\n\" + str(dfpchange));\n",
        "  print(\"firefox/chrome % change: \\n\" + str(dfpchangesort));\n",
        "  print(\"\\n\")\n",
        "\n",
        "  #print(dfpchange.head(10))\n",
        "  print(\"min/max/median\");\n",
        "  print(dfpchange.min())\n",
        "  print(dfpchange.max())\n",
        "  print(dfpchange.median())\n",
        "  print(\"\\n\")\n",
        "\n",
        "  #print(dfpchange);\n",
        "  #dfpchange.plot();"
      ],
      "metadata": {
        "id": "4laOg1l_DTEX"
      },
      "execution_count": 15,
      "outputs": []
    },
    {
      "cell_type": "code",
      "source": [
        "#@title correlate_lcp_to_metrics\n",
        "\n",
        "\n",
        "def correlate_lcp_to_metrics(df):\n",
        "  #filter data frame to no non-null lcp-render value rows\n",
        "  #df1_lcpr = df1[df1[\"lcp-render\"].notnull()]\n",
        "\n",
        "\n",
        "  df_lcpr = df[\"lcp_render\"]\n",
        "\n",
        "  #print(\"first ten values\");\n",
        "  #print(df1_lcpr.head(10)) # print 10 rows\n",
        "  #print(\"\\n\");\n",
        "  #df1_lcpr.plot()\n",
        "  #print(\"\\n\");\n",
        "\n",
        "  corrsic = df_lcpr.corr(df['fetchStart'], method='pearson');\n",
        "  print(\"fetchStart \" + str(corrsic))\n",
        "\n",
        "  corrsic = df_lcpr.corr(df['responseStart'], method='pearson');\n",
        "  print(\"responseStart \" + str(corrsic))\n",
        "\n",
        "  corrsic = df_lcpr.corr(df['domComplete'], method='pearson');\n",
        "  print(\"domComplete \" + str(corrsic))\n",
        "  print(\"\\n\");\n",
        "\n",
        "\n",
        "  # Correlation between all relevant columns of DataFrame (except 1,2,5,6 below)\n",
        "  # url-id, url, fetchStart, connectStart, responseStart, SpeedIndex, VC85, fcp, lcp-load, lcp-render, lcp-element\n",
        "  # url_id|url|power|redirectEnd|fetchStart|domainLookupStart|connectStart|requestStart|responseStart|domContentLoadedEventStart|domComplete|SpeedIndex|VC85|fcp|lcp_load|lcp_render|lcp_element\n",
        "  df1e = df.iloc[:, [0, 1, 2, 3, 4, 5, 6, 7, 8, 9, 10, 11, 12, 13, 14, 15]];\n",
        "  #print(df1e.head(10));\n",
        "  corre = df1e.corr();\n",
        "  print(corre);\n",
        "\n",
        "  #df1e_lcpr = df1e[\"lcp_render\"];\n",
        "  #corre = df1e_lcpr.corr(df1e, method='pearson');\n",
        "  #print(corre)\n",
        "  #print(df1);"
      ],
      "metadata": {
        "cellView": "form",
        "id": "Ni4PF_gDUMW6"
      },
      "execution_count": 6,
      "outputs": []
    },
    {
      "cell_type": "markdown",
      "source": [
        "\n",
        "# LCP Analysis 2 Browsers\n"
      ],
      "metadata": {
        "id": "LFqBjHK32nbE"
      }
    },
    {
      "cell_type": "code",
      "source": [
        "#df1 = deserialize_json(data1_file)\n",
        "#print(df1)\n",
        "\n",
        "print(\"firefox\")\n",
        "dffx = deserialize_json_metrics_by_browser(data1_file, \"firefox\")\n",
        "print(dffx)\n",
        "\n",
        "print(newline)\n",
        "\n",
        "print(\"chrome\")\n",
        "dfchr = deserialize_json_metrics_by_browser(data1_file, \"chrome\")\n",
        "print(dfchr)"
      ],
      "metadata": {
        "colab": {
          "base_uri": "https://localhost:8080/"
        },
        "id": "8jP-E_KtMGIM",
        "outputId": "8aede71e-1821-4566-cad9-e4ef3376d760"
      },
      "execution_count": 7,
      "outputs": [
        {
          "output_type": "stream",
          "name": "stdout",
          "text": [
            "firefox\n",
            "dataframe rows: 23\n",
            "                                     fcp lcp_load lcp_render redirectStart redirectEnd fetchStart domainLookupStart connectStart requestStart responseStart domInteractive domComplete loadEventEnd SpeedIndex VisualComplete85 LastVisualChange                                                                                                                                                                                                                            lcp_element\n",
            "allrecipes                           392      645        686             0           0         -2              36.5         43.5           84           237            456         494          500       2031             2848             8585                                       \"\"https://www.allrecipes.com/thmb/HoUlJ4uVESFamOu0fw_fGe1aiJk=/400x250/filters:no_upscale():max_bytes(150000):strip_icc()/1189502_Baked-Shrimp-Scampi-4x3-e9e6b5daa65b4635985fd701999b8de3.jpg\"\"\n",
            "amazon                               522     2943       2950             0           0         -2                25           46         86.5           241            639         861          903       3142             2829            13261                                                                                                                                                                  \"\"https://m.media-amazon.com/images/I/61rN50x3S5L._SR1236,1080_.jpg\"\"\n",
            "amazon_mobile_phone                  487      740        760             0           0         -2              27.5           45         94.5           258           1635        1797         1845       2038             2905            14946                                                                                                       \"\"https://m.media-amazon.com/images/S/al-na-9d5791cf-3faf/b7e14414-a415-4c3d-a38b-c711160ab668._CR0,0,1200,628_SX796_QL70_.jpg\"\"\n",
            "bild_de_super_bowl                  1447     1547       1547             0           0          0              41.5           60          170           211           1502        3239         3258       2430             5614             9543                                                                                                                                    \"\"https://images.bild.de/65cb14f2475f0677d1ce0fed/ffae6892c69fd252783863935b549e78,d6f0f2d8?w=992\"\"\n",
            "bing_restaurants_in_exton_pa_19341   419        0        783             0           0         -2                17           42          191           322            834         888          898       2288             4067            12689                                                                                                                             \"\"data:image/svg+xml;charset=utf8,%3Csvg xmlns='http://www.w3.org/2000/svg' width='360' height='159'/%3E\"\"\n",
            "booking                              819     2850       2965             0           0         -2                24         29.5           86           488            960        2042         2051       2903             6006             9502                                                                                          \"\"https://r-xx.bstatic.com/xdata/images/xphoto/900x900/450886085.jpeg?k=83c95295c8d723d0e917766baf9e5e8437be87083a16908d20e74faee03afdf5&o=\"\"\n",
            "cnn_why_hurricane                    894     1384       1384             0           0        103               108          114          114           231            285        1302         1306       2522             3336             5763  \"\"https://dynaimage.cdn.cnn.com/cnn/w_768,h_1024,c_scale/https%3A%2F%2Fdynaimage.cdn.cnn.com%2Fcnn%2Fx_873%2Cy_0%2Cw_1500%2Ch_2000%2Cc_crop%2Fhttps%253A%252F%252Fstamp.static.cnn.io%252F5bbe087e4db3d70020c01c46%252Fmichael5.jpg\"\"\n",
            "dailymail_co_uk_experts_say          445      535        544             0           0         -2                26           42          156           300           1053        1727         1731       2343             4202            15497                                                                                                                                                  \"\"https://i.dailymail.co.uk/1s/2021/07/02/15/44961709-0-image-a-2_1625235658934.jpg\"\"\n",
            "en_m_wikipedia_main_page             225      620        626             0           0         -2                23         24.5           80           107            235         468          471       2226             2638             6847                                                                                                                                \"\"https://upload.wikimedia.org/wikipedia/commons/thumb/6/60/WLF2025Banner.png/798px-WLF2025Banner.png\"\"\n",
            "espn_the_comparison                 2475     1079       1079             0           0        104               108          114          161           230           1110        2637         2645       2897             4971            14984                                                                        \"\"https://a.espncdn.com/combiner/i?img=%2Fphoto%2F2019%2F0130%2Fnba_illustration1x_1296x729.png&w=920&h=518&scale=crop&cquality=80&location=origin&format=jpg\"\"\n",
            "google                               462      510        532             0           0         -2                22         22.5          185           363            557        1642         1642       1887             2177             9481                                                                                                                                                 \"\"https://www.google.com/images/branding/googlelogo/2x/googlelogo_color_160x56dp.png\"\"\n",
            "google_pwa                           604     1098       1098             0           0        -16               -16          -16           -8           224            579         584          585       2540             3635            10668                                                                                                                                                                   \"\"blob:https://www.google.com/94dfb1d4-d862-4c46-8add-2ce873bd2063\"\"\n",
            "google_restaurants_near_me           675        0        687             0         537        541               541          541          550           623            661        2258         2259       1899             2164             5633                                                                                                                                                                          \"\"<div style='font-size:13px; line-break: anywhere;'></div>\"\"\n",
            "instagram                            482     1651       1657             0           0          0                29         40.5          181           312            509        1494         1495       2145             2750             4770                                                                                                                                                                   \"\"https://static.cdninstagram.com/rsrc.php/v4/yB/r/E7m8ZCMOFDS.png\"\"\n",
            "m_ebay_kleinanzeigen_de             1470     1529       1529             0           0        260               276          291          403           896           1671        2814         2814       2393             4215            16422                                                                                                                         \"\"https://img.kleinanzeigen.de/api/v1/prod-ads/images/e6/e694c203-8fc4-47c6-be2d-3c3df89cbb12?rule=$_35.AUTO\"\"\n",
            "m_ebay_kleinanzeigen_de_c199_l3331  1690     1719       1719             0           0        646               646          646          654          1159           1924        2662         2662       2394             4097             9473                                                                                                                         \"\"https://img.kleinanzeigen.de/api/v1/prod-ads/images/c1/c120b5c0-f9d0-487a-93ce-1408420e3efb?rule=$_12.AUTO\"\"\n",
            "m_facebook                          1431     1554       1582             0           0          0                45           69          205           452           1215        1751         1753       2477             3576            12618                                                                                                                                                                   \"\"https://z-m-static.xx.fbcdn.net/rsrc.php/v4/yh/r/Sg2QOE06yVC.png\"\"\n",
            "m_imdb                              1593     1581       1581             0           0         -2                21         40.5          172           942           1615        4624         4640       3246             4092            17865                                                                           \"\"https://m.media-amazon.com/images/M/MV5BODU0MWIwNWUtY2FhYi00NmUyLWFhYzctZWVhYTU0MzI4MDk4XkEyXkFqcGc@._CR396,31,2954,1662_QL75_UX1000_CR0,0,1000,563_.jpg\"\"\n",
            "m_youtube                           1168        0       1410             0           0          0                28         32.5          209           326           1054        1967         1970       2707             3705             5477                                                                                                                                                                                                 \"\"<h2 class='feed-nudge-title'></h2>\"\"\n",
            "reddit                               660     1165       1200            -2         121        131               131          131          136           281            933        3898         3899       2402             3104             8041                                                                                                                                                   \"\"https://a.thumbs.redditmedia.com/ygmrQqhsarKzEbi22GXtPNitleFfDQuNg5RHPPFeti4.jpg\"\"\n",
            "sina                                2969     3030       3030             0           0        616               631          792          999          1228           4278        9734         9762       3982             9888            22072                                                                                           \"\"https://k.sinaimg.cn/n/news/transform/310/w710h400/20250212/325a-596633a702b4ae5d67b6a67bb2a7a35d.jpg/w710h400z1l50t1q751a9.jpg?by=comos\"\"\n",
            "support_microsoft_en_us              455      681        699             0           0         -2                26         47.5          107           146            679        1301         1471       2121             2888             8701                                                                                                                                                    \"\"https://support.microsoft.com/images/en-us/4ee76be2-dfde-4b30-9fd9-94e8aeb0cbf2\"\"\n",
            "youtube_COU5T_Wafa4                 1004     1014       1025             0           0        309               327          337          499           601           1430        2114         2116       2813             3951             6281                                                                                                                                                                                                              \"\"data:image/png;base64\"\"\n",
            "\n",
            "\n",
            "chrome\n",
            "dataframe rows: 23\n",
            "                                     fcp lcp_load lcp_render redirectStart redirectEnd fetchStart domainLookupStart connectStart requestStart responseStart domInteractive domComplete loadEventEnd SpeedIndex VisualComplete85 LastVisualChange                                                                                                                                                                                                                                                                                                                                                                                                                                                                                                                                                                                                                                                                                                                                                                                                                                                                                                                                                                                                                                                                                                                                                                                                                                                                                                                                                                                                                                                                                                                                                                                               lcp_element\n",
            "allrecipes                           628      506        692             0           0          5               8.5           18           55           207            447         456          465       1368             2698             7689                                                                                                                                                                                                                                                                                                                                                                                                                                                                                                                                                                                                                                                                                                                                                                                                                                                                                                                                                                                                                                                                                                                                                                                                                                                                                                                                                                                             \"\"https://www.allrecipes.com/thmb/Spx1xxRmsDTKFvTvH8iEO0Qd2xU=/400x250/filters:no_upscale():max_bytes(150000):strip_icc():format(webp)/1189502_Baked-Shrimp-Scampi-4x3-e9e6b5daa65b4635985fd701999b8de3.jpg\"\"\n",
            "amazon                               732      552        806             0           0          4                 9           29           66           231            710         967         1008       2668            11652            12569                                                                                                                                                                                                                                                                                                                                                                                                                                                                                                                                                                                                                                                                                                                                                                                                                                                                                                                                                                                                                                                                                                                                                                                                                                                                                                                                                                                                                                                                                                                                                                                \"\"data:image/jpeg;base64\"\"\n",
            "amazon_mobile_phone                  712      735        936             0           0          4                 8           15         56.5           219           1683        2119         2157       1583             2922            11900                                                                                                                                                                                                                                                                                                                                                                                                                                                                                                                                                                                                                                                                                                                                                                                                                                                                                                                                                                                                                                                                                                                                                                                                                                                                                                                                                                                                                                                                          \"\"https://m.media-amazon.com/images/S/al-na-9d5791cf-3faf/b7e14414-a415-4c3d-a38b-c711160ab668._CR0,0,1200,628_SX796_QL70_.jpg\"\"\n",
            "bild_de_super_bowl                  2276     2293       2530             0           0         14              16.5           34          139           463           2421        5137         5171       1846             5773            10824                                                                                                                                                                                                                                                                                                                                                                                                                                                                                                                                                                                                                                                                                                                                                                                                                                                                                                                                                                                                                                                                                                                                                                                                                                                                                                                                                                                                                                                                                                       \"\"https://images.bild.de/65cb14f2475f0677d1ce0fed/ffae6892c69fd252783863935b549e78,d6f0f2d8?w=992\"\"\n",
            "bing_restaurants_in_exton_pa_19341   524        0       1036             0           0          5                 9           27          140           254            818         870          871       1477             2998             5813                                                                                                                                                                                                                                                                                                                                                                                                                                                                                                                                                                                                                                                                                                                                                                                                                                                                                                                                                                                                                                                                                                         \"\"https://www.bing.com/maps/geoplat/REST/v1/Imagery/Map/RoadVibrant?ms=792,366&ml=Basemap,LandCover,Landmarks,OsmBuildings&key=AnTcaqBi2ypp0xI-OZNi4W_ik2KhjgpqioTAtXLC8GzkMBQRMlyxvxyTnd5b73im&c=en-US&fmt=jpeg&od=2&shading=hill&logo=n&da=ro&pp=40.059231,-75.654755;rstp;Ron%27s+Original+Bar+%26+G...&pp=40.023556,-75.648315;rstp;Bonefish+Grill&pp=40.034431,-75.633842;rstp;Han+Dynasty&pp=40.022823,-75.628197;rstp;Appetites+On+Main&pp=40.047398,-75.636169;rstp;Hong+Kong&dpi=Large\"\"\n",
            "booking                              986     3326       3544             0           0          5                 9           16           62           439           1052        1591         1594       2061             3015             8957                                                                                                                                                                                                                                                                                                                                                                                                                                                                                                                                                                                                                                                                                                                                                                                                                                                                                                                                                                                                                                                                                                                                                                                                                                                                                                                                                                                                                                                             \"\"https://r-xx.bstatic.com/xdata/images/xphoto/900x900/450886085.jpeg?k=83c95295c8d723d0e917766baf9e5e8437be87083a16908d20e74faee03afdf5&o=\"\"\n",
            "cnn_why_hurricane                   1140     1368       1440             0           0       78.5              78.5         78.5          102           268            314        1391         1394       2030             3276             8966                                                                                                                                                                                                                                                                                                                                                                                                                                                                                                                                                                                                                                                                                                                                                                                                                                                                                                                                                                                                                                                                                                                                                                                                                                                                                                                                                                     \"\"https://dynaimage.cdn.cnn.com/cnn/w_768,h_1024,c_scale/https%3A%2F%2Fdynaimage.cdn.cnn.com%2Fcnn%2Fx_873%2Cy_0%2Cw_1500%2Ch_2000%2Cc_crop%2Fhttps%253A%252F%252Fstamp.static.cnn.io%252F5bbe087e4db3d70020c01c46%252Fmichael5.jpg\"\"\n",
            "dailymail_co_uk_experts_say          636      641        774             0           0          5                 8           33          130           278           1177        2247         2248       4172            11192            14447                                                                                                                                                                                                                                                                                                                                                                                                                                                                                                                                                                                                                                                                                                                                                                                                                                                                                                                                                                                                                                                                                                                                                                                                                                                                                                                                                                                                                                                                                                                     \"\"https://i.dailymail.co.uk/1s/2021/07/02/15/44961709-0-image-a-2_1625235658934.jpg\"\"\n",
            "en_m_wikipedia_main_page             504        0        504             0           0          5                 5            5         36.5            63            291         409          409       1546             2505             3041                                                                                                                                                                                                                                                                                                                                                                                                                                                                                                                                                                                                                                                                                                                                                                                                                                                                                                                                                                                                                                                                                                                                                                                                                                                                                                                                                                                                                                                                                                                                                                                               \"\"<p></p>\"\"\n",
            "espn_the_comparison                 2350     1097       2350             0           0          9                15           47         83.5           165           1187        3934         3955       2058             4343            11982                                                                                                                                                                                                                                                                                                                                                                                                                                                                                                                                                                                                                                                                                                                                                                                                                                                                                                                                                                                                                                                                                                                                                                                                                                                                                                                                                                                                                                           \"\"https://a.espncdn.com/combiner/i?img=%2Fphoto%2F2019%2F0130%2Fnba_illustration1x_1296x729.png&w=920&h=518&scale=crop&cquality=80&location=origin&format=jpg\"\"\n",
            "google                               410      339        462             0           0          5                 5            5         20.5           187            380        1533         1535       1142             2408             4752                                                                                                                                                                                                                                                                                                                                                                                                                                                                                                                                                                                                                                                                                                                                                                                                                                                                                                                                                                                                                                                                                                                                                                                                                                                                                                                                                                                                                                                                                                                                                                          \"\"<span class='h5AwLb'></span>\"\"\n",
            "google_pwa                           596     1156       1236             0           0          3                12           12           21           282            523         800          801       1999             3461             9457                                                                                                                                                                                                                                                                                                                                                                                                                                                                                                                                                                                                                                                                                                                                                                                                                                                                                                                                                                                                                                                                                                                                                                                                                                                                                                                                                                                                                                                                                                                                      \"\"blob:https://www.google.com/82240423-1ae8-4134-9211-53736a296123\"\"\n",
            "google_restaurants_near_me           498     1864       1924             0           0          7                11           11           13           164           1475        7517         7528       3011             6371            20861  \"\"https://www.google.com/maps/vt/data=BWGe5d2aA6KEg5og8UF4CPxp7SJwJANInDK9zoBkttbv_fo7VDKCQctxj47HE_I7IQiVtloaJ0jW9Nsi4oTaKI4wNKOmSkOBTSkiHINuEoLtDSQCcOjsrOE2k0X_vs8b9i-i2K0DrPW572Fbo7W4Rn_2h_eZnFpGemXDZCjJUii8dNvIcbV_WA98iMxgFsKf7gPhtXzFrg5TZnnBQzTh2sAxeedQ07YVCmt71wEmQ6ei5mIUAr2aIEhXmJ3W_2voynxNNCwnM1tmIQFQcCoIQD4PuZflnczY79lqVTHghJwn67NPITUafSFpKDkbxmJT-jXRe68vC9Xjp7IsJ4Aer2HwmQOfnD1F_0oyUwSrxt1dK18vfCOOwH2OE8kBmN5Due5DiXIQS2OS9fdTK_4giodU-iYsZIagewT4vH0WLOOKh62CoCevyUzPhXGbOt1IhVjpei-AdCdKvh39S6r6cde-RBe6FecsjiR_k0VT3vHyairHKjj57u8K0pm9OrrMlMpWJEKiTTW2OCzSTTSoJvEhYjPqjM2yFrG0QnnW7lXUgnBJJotdHbiECBm7LvRnwKWWLCdZ6qXMv0Wee6QAX84Ae6ZPgSzzf0ejV6bf7Mcu5SnsNosaks7KnJjusxzi108BVAo1eogUl15Zb6uVXoizvgjI0YKS7V9PuXCyE0-a8_OCwxjxMx6ACV-6Sih2AIK3TM5vBd6T2zU8TahvS9EGIhKPjoGf-pSG5ZWdio6w-XDWvz-KVeCUaYv1AtAW-9qwc0Wbh8Ft8RbCWNYFmEcVpRwmS4gNon3_j8Fue8sOL1-Qy3eUskT_WRpQJepfqLOBqSQzY3eVxRz0OwO2puszE9B61YAAszGnLTfd0L2Zb55kp28i1SZDmZ2PQ-GtgONV0YPjYECQEjqhC-QVONJ5U5FgS0qJRTMUeLus36ikA8oxGdaACGaQNhM24bLC9ONK061VgJAkcujfC6VHVY2VLO3MvputXMVbqCCIwKDVHbwPJ5w60RN9SA9Zp4zd9ZMZAqcM74AGAIOxLvcX2DMxjAi1Rkrp0jC8Ets1FSROubk-vm4PDzbKNT16RS71Ze24_nXhYhSDSu6lqszMeO5VXzYyOVGkGDd1gEBeDmBQIW9pJ0x6GakoUAbqMaT-NPg-gxnXqHT1MU4QV-FiBh7JA988jJdfm7YJtNJoViWito0dDdUkLlEsObXywUF34Yn9VuB0YHHJat9gmmwLbBbkOs9OcZbHFS0dEuR_CgN9yHDjlnPlbiFYIs6UQldHFdEqPPQDRLCjyoIQ4OIBrvoqF1QjfZEqOwO0a41FjefYgx-bzUkFoSYzqoFr5jQ0LK_hmWivIprJUemLxWD_8HukmdXLrzpGFvyh94oCT2-F0SMyJSk1SAY5_94KCR9WIgn7SnZ-GIQlzw4Iq56eYGztA2BsYiNMjDJYuRR_xi1Rdl5moQyZhl7kiOEyCVpVO5gzUGyLn1J6?h=120&w=380&scale=2\"\"\n",
            "instagram                            554        0       1544             0           0          5                 5            5          123           251            855        1298         1299       1674             2553             7302                                                                                                                                                                                                                                                                                                                                                                                                                                                                                                                                                                                                                                                                                                                                                                                                                                                                                                                                                                                                                                                                                                                                                                                                                                                                                                                                                                                                                                                                                                                                      \"\"<h1 class='_ap3a _add8 _aacu _aacx _aad6 _aadb' dir='auto'></h1>\"\"\n",
            "m_ebay_kleinanzeigen_de             1776        0       2830             0           0        237               241          274          386           929           2002        2935         2935       1881             4834             7559                                                                                                                                                                                                                                                                                                                                                                                                                                                                                                                                                                                                                                                                                                                                                                                                                                                                                                                                                                                                                                                                                                                                                                                                                                                                                                                                                                                                                                                                                                                                                        \"\"<p class='jsx-2028411237 Paragraph small'></p>\"\"\n",
            "m_ebay_kleinanzeigen_de_c199_l3331  2224        0       3160             0           0        595               595          595          599          1227           2260        3198         3199       1952             4293            13651                                                                                                                                                                                                                                                                                                                                                                                                                                                                                                                                                                                                                                                                                                                                                                                                                                                                                                                                                                                                                                                                                                                                                                                                                                                                                                                                                                                                                                                                                                                                                        \"\"<p class='jsx-2028411237 Paragraph small'></p>\"\"\n",
            "m_facebook                          1472        0       1524             0           0          6                14           54          194           413           1243        1551         1557       2074             3590             8241                                                                                                                                                                                                                                                                                                                                                                                                                                                                                                                                                                                                                                                                                                                                                                                                                                                                                                                                                                                                                                                                                                                                                                                                                                                                                                                                                                                            \"\"<div class='wbloks_119' style='display: -webkit-box; overflow: hidden; text-overflow: ellipsis; -webkit-box-orient: vertical; -webkit-line-clamp: 1; word-break: break-word; max-height: 999999px;'></div>\"\"\n",
            "m_imdb                              1834     1552       1872             0           0          5                 9           37          128           988           1718        7647         7680       3015             3865            20397                                                                                                                                                                                                                                                                                                                                                                                                                                                                                                                                                                                                                                                                                                                                                                                                                                                                                                                                                                                                                                                                                                                                                                                                                                                                                                                                                                                                                                              \"\"https://m.media-amazon.com/images/M/MV5BODU0MWIwNWUtY2FhYi00NmUyLWFhYzctZWVhYTU0MzI4MDk4XkEyXkFqcGc@._CR396,31,2954,1662_QL75_UX1000_CR0,0,1000,563_.jpg\"\"\n",
            "m_youtube                           1460        0       1582             0           0          5               136          136          140           252           1158        2058         2058       1873             3469            12246                                                                                                                                                                                                                                                                                                                                                                                                                                                                                                                                                                                                                                                                                                                                                                                                                                                                                                                                                                                                                                                                                                                                                                                                                                                                                                                                                                                                                                                                                                                                                               \"\"<div class='feed-nudge-subtitle'></div>\"\"\n",
            "reddit                               750        0       1106           4.5        82.5       82.5              82.5         82.5         89.5           220            726        3957         3960       1510             2606             8849                                                                                                                                                                                                                                                                                                                                                                                                                                                                                                                                                                                                                                                                                                                                                                                                                                                                                                                                                                                                                                                                                                                                                                                                                                                                           \"\"<a href='/r/nba/comments/1inhsjs/anthony_edwards_newest_baby_mother_shares_texts/' id='post-title-t3_1inhsjs' slot='title' class='block font-semibold text-neutral-content-strong m-0 visited:text-neutral-content-weak text-14 xs:text-16  mb-xs  overflow-hidden' aria-describedby='feed-post-credit-bar-t3_1inhsjs'></a>\"\"\n",
            "sina                                4646        0       6814             0           0       1401              1415         1629         2050          2350           5809       12994        13013       4168            13710            24753                                                                                                                                                                                                                                                                                                                                                                                                                                                                                                                                                                                                                                                                                                                                                                                                                                                                                                                                                                                                                                                                                                                                                                                                                                                                                                                                                                                                                                                                                                                              \"\"<h2 data-v-3dadf8e9='' data-v-5f56d9e3='' class='m_f_con_t cm_tit'></h2>\"\"\n",
            "support_microsoft_en_us              650      703        796             5         126        126               126          126          137           172            805        1961         2184       1659             2654             5663                                                                                                                                                                                                                                                                                                                                                                                                                                                                                                                                                                                                                                                                                                                                                                                                                                                                                                                                                                                                                                                                                                                                                                                                                                                                                                                                                                                                                                                                                                                       \"\"https://support.microsoft.com/images/en-us/4ee76be2-dfde-4b30-9fd9-94e8aeb0cbf2\"\"\n",
            "youtube_COU5T_Wafa4                 1198     1033       1198             0           0        278               488          488          493           606           1336        2013         2013       1942             3719             4960                                                                                                                                                                                                                                                                                                                                                                                                                                                                                                                                                                                                                                                                                                                                                                                                                                                                                                                                                                                                                                                                                                                                                                                                                                                                                                                                                                                                                                                                                                                                                                                 \"\"data:image/png;base64\"\"\n"
          ]
        }
      ]
    },
    {
      "cell_type": "markdown",
      "source": [
        "#LCP Element match 2 browsers"
      ],
      "metadata": {
        "id": "U_ZCFlm_zhBA"
      }
    },
    {
      "cell_type": "code",
      "source": [
        "cmp_pre = compare_2_lcp_elements(dffx, dfchr);\n",
        "print(\"ff/chrome lcp match: \" + cmp_pre);\n",
        "\n"
      ],
      "metadata": {
        "colab": {
          "base_uri": "https://localhost:8080/"
        },
        "id": "Yif9-syzzxqG",
        "outputId": "6e00c947-6ff0-47aa-ffdd-76afdbb70e09"
      },
      "execution_count": 12,
      "outputs": [
        {
          "output_type": "stream",
          "name": "stdout",
          "text": [
            "ff/chrome lcp match: 39%\n"
          ]
        }
      ]
    },
    {
      "cell_type": "markdown",
      "source": [
        "#LCP Correlations with other metrics"
      ],
      "metadata": {
        "id": "75GHGurDlHrM"
      }
    },
    {
      "cell_type": "markdown",
      "source": [
        "# create bool array for all results where LCP elements match.\n",
        "dflcpeqp = df2[\"lcp_element\"] == df1[\"lcp_element\"];\n",
        "print(\"df1 len: \" + str(len(df1.index)));\n",
        "print(\"df2 len: \" + str(len(df2.index)));\n",
        "print(\"fenix/chrome lcp matching set length: \" + str(len(dflcpeqp.index)));\n",
        "\n",
        "#firefox correlations with other metrics"
      ],
      "metadata": {
        "id": "-Ty8IIYKAJ_4"
      }
    },
    {
      "cell_type": "code",
      "source": [
        "correlate_lcp_to_metrics(dffx)\n",
        "\n"
      ],
      "metadata": {
        "id": "v98GnSDZlhe-",
        "colab": {
          "base_uri": "https://localhost:8080/"
        },
        "outputId": "ae7c415f-d664-4157-907f-2e84ca5c9697"
      },
      "execution_count": 13,
      "outputs": [
        {
          "output_type": "stream",
          "name": "stdout",
          "text": [
            "fetchStart 0.2344877535099974\n",
            "responseStart 0.43926550686149823\n",
            "domComplete 0.49112663860287803\n",
            "\n",
            "\n",
            "                        fcp  lcp_load  lcp_render  redirectStart  redirectEnd  fetchStart  domainLookupStart  connectStart  requestStart  responseStart  domInteractive  domComplete  loadEventEnd  SpeedIndex  VisualComplete85  LastVisualChange\n",
            "fcp                1.000000  0.452320    0.477224       0.102455    -0.119104    0.533382           0.539049      0.588296      0.636674       0.648521        0.786106     0.779098      0.776986    0.703120          0.766234          0.559916\n",
            "lcp_load           0.452320  1.000000    0.917780       0.011807    -0.302840    0.202311           0.212301      0.267651      0.257969       0.407547        0.469435     0.471700      0.472093    0.695074          0.576982          0.397112\n",
            "lcp_render         0.477224  0.917780    1.000000       0.043694    -0.198993    0.234488           0.245301      0.301872      0.321745       0.439266        0.489083     0.491127      0.490513    0.758391          0.617461          0.324360\n",
            "redirectStart      0.102455  0.011807    0.043694       1.000000    -0.177208   -0.015219           0.006068      0.022517      0.097055       0.110057        0.049373    -0.182952     -0.181229    0.050077          0.105714          0.133784\n",
            "redirectEnd       -0.119104 -0.302840   -0.198993      -0.177208     1.000000    0.435459           0.424645      0.373569      0.264267       0.096721       -0.129476     0.038857      0.036761   -0.281680         -0.250887         -0.275248\n",
            "fetchStart         0.533382  0.202311    0.234488      -0.015219     0.435459    1.000000           0.998475      0.986700      0.921029       0.775074        0.605565     0.569627      0.566915    0.256582          0.386682          0.133117\n",
            "domainLookupStart  0.539049  0.212301    0.245301       0.006068     0.424645    0.998475           1.000000      0.991003      0.933246       0.783737        0.623328     0.578164      0.575620    0.259091          0.398660          0.141334\n",
            "connectStart       0.588296  0.267651    0.301872       0.022517     0.373569    0.986700           0.991003      1.000000      0.962009       0.801525        0.701898     0.656710      0.654861    0.339626          0.488017          0.225475\n",
            "requestStart       0.636674  0.257969    0.321745       0.097055     0.264267    0.921029           0.933246      0.962009      1.000000       0.834762        0.785942     0.727659      0.725539    0.409438          0.569952          0.295956\n",
            "responseStart      0.648521  0.407547    0.439266       0.110057     0.096721    0.775074           0.783737      0.801525      0.834762       1.000000        0.763842     0.704089      0.700577    0.489160          0.532502          0.468452\n",
            "domInteractive     0.786106  0.469435    0.489083       0.049373    -0.129476    0.605565           0.623328      0.701898      0.785942       0.763842        1.000000     0.898834      0.899372    0.662741          0.832363          0.687804\n",
            "domComplete        0.779098  0.471700    0.491127      -0.182952     0.038857    0.569627           0.578164      0.656710      0.727659       0.704089        0.898834     1.000000      0.999827    0.693061          0.797257          0.588757\n",
            "loadEventEnd       0.776986  0.472093    0.490513      -0.181229     0.036761    0.566915           0.575620      0.654861      0.725539       0.700577        0.899372     0.999827      1.000000    0.692532          0.796638          0.590445\n",
            "SpeedIndex         0.703120  0.695074    0.758391       0.050077    -0.281680    0.256582           0.259091      0.339626      0.409438       0.489160        0.662741     0.693061      0.692532    1.000000          0.771626          0.569697\n",
            "VisualComplete85   0.766234  0.576982    0.617461       0.105714    -0.250887    0.386682           0.398660      0.488017      0.569952       0.532502        0.832363     0.797257      0.796638    0.771626          1.000000          0.597295\n",
            "LastVisualChange   0.559916  0.397112    0.324360       0.133784    -0.275248    0.133117           0.141334      0.225475      0.295956       0.468452        0.687804     0.588757      0.590445    0.569697          0.597295          1.000000\n"
          ]
        }
      ]
    },
    {
      "cell_type": "markdown",
      "source": [
        "#chrome correlations with other metrics"
      ],
      "metadata": {
        "id": "-A6yYy-p-5Ik"
      }
    },
    {
      "cell_type": "code",
      "source": [
        "correlate_lcp_to_metrics(dfchr)"
      ],
      "metadata": {
        "colab": {
          "base_uri": "https://localhost:8080/"
        },
        "outputId": "5f6e11bc-0f76-4a41-9bad-4cbcdb39f435",
        "id": "atiaWz7S_3ty"
      },
      "execution_count": 19,
      "outputs": [
        {
          "output_type": "stream",
          "name": "stdout",
          "text": [
            "fetchStart 0.8200205412629201\n",
            "responseStart 0.8658803917067145\n",
            "domComplete 0.7545775449886573\n",
            "\n",
            "\n",
            "                        fcp  lcp_load  lcp_render  redirectStart  redirectEnd  fetchStart  domainLookupStart  connectStart  requestStart  responseStart  domInteractive  domComplete  loadEventEnd  SpeedIndex  VisualComplete85  LastVisualChange\n",
            "fcp                1.000000 -0.038664    0.880534      -0.176603    -0.175277    0.806332           0.795279      0.815929      0.834955       0.863426        0.892231     0.759014      0.757764    0.473290          0.494076          0.590484\n",
            "lcp_load          -0.038664  1.000000    0.135672      -0.134904    -0.112764   -0.263161          -0.262205     -0.258220     -0.259135      -0.134429       -0.053784     0.116741      0.117800    0.125840         -0.040929          0.174011\n",
            "lcp_render         0.880534  0.135672    1.000000      -0.187049    -0.188385    0.820021           0.791350      0.809501      0.831442       0.865880        0.886070     0.754578      0.752312    0.497370          0.479699          0.610496\n",
            "redirectStart     -0.176603 -0.134904   -0.187049       1.000000     0.987236   -0.020577          -0.037978     -0.051495     -0.085015      -0.166422       -0.152008    -0.008063      0.002542   -0.209657         -0.205260         -0.201376\n",
            "redirectEnd       -0.175277 -0.112764   -0.188385       0.987236     1.000000   -0.016761          -0.033872     -0.047436     -0.080490      -0.165118       -0.147079    -0.024179     -0.011999   -0.200638         -0.200474         -0.211131\n",
            "fetchStart         0.806332 -0.263161    0.820021      -0.020577    -0.016761    1.000000           0.987820      0.990467      0.980622       0.916461        0.869453     0.681535      0.681126    0.470039          0.538331          0.494741\n",
            "domainLookupStart  0.795279 -0.262205    0.791350      -0.037978    -0.033872    0.987820           1.000000      0.997175      0.977085       0.900294        0.852195     0.654549      0.653816    0.452012          0.514676          0.462655\n",
            "connectStart       0.815929 -0.258220    0.809501      -0.051495    -0.047436    0.990467           0.997175      1.000000      0.989391       0.910367        0.873230     0.680595      0.679830    0.484022          0.546989          0.489449\n",
            "requestStart       0.834955 -0.259135    0.831442      -0.085015    -0.080490    0.980622           0.977085      0.989391      1.000000       0.921660        0.902150     0.705908      0.704931    0.523097          0.583299          0.510671\n",
            "responseStart      0.863426 -0.134429    0.865880      -0.166422    -0.165118    0.916461           0.900294      0.910367      0.921660       1.000000        0.905166     0.745579      0.743759    0.535583          0.516740          0.599205\n",
            "domInteractive     0.892231 -0.053784    0.886070      -0.152008    -0.147079    0.869453           0.852195      0.873230      0.902150       0.905166        1.000000     0.845567      0.844915    0.587012          0.612981          0.690290\n",
            "domComplete        0.759014  0.116741    0.754578      -0.008063    -0.024179    0.681535           0.654549      0.680595      0.705908       0.745579        0.845567     1.000000      0.999876    0.652237          0.540498          0.844523\n",
            "loadEventEnd       0.757764  0.117800    0.752312       0.002542    -0.011999    0.681126           0.653816      0.679830      0.704931       0.743759        0.844915     0.999876      1.000000    0.650996          0.539727          0.843080\n",
            "SpeedIndex         0.473290  0.125840    0.497370      -0.209657    -0.200638    0.470039           0.452012      0.484022      0.523097       0.535583        0.587012     0.652237      0.650996    1.000000          0.853344          0.803720\n",
            "VisualComplete85   0.494076 -0.040929    0.479699      -0.205260    -0.200474    0.538331           0.514676      0.546989      0.583299       0.516740        0.612981     0.540498      0.539727    0.853344          1.000000          0.656711\n",
            "LastVisualChange   0.590484  0.174011    0.610496      -0.201376    -0.211131    0.494741           0.462655      0.489449      0.510671       0.599205        0.690290     0.844523      0.843080    0.803720          0.656711          1.000000\n"
          ]
        }
      ]
    },
    {
      "cell_type": "markdown",
      "source": [
        "# LCP Render compare 2 browsers (firefox/chrome)"
      ],
      "metadata": {
        "id": "LrabPMpCeJyo"
      }
    },
    {
      "cell_type": "code",
      "source": [
        "compare_2_lcp_values(dffx, dfchr)"
      ],
      "metadata": {
        "colab": {
          "base_uri": "https://localhost:8080/"
        },
        "id": "FKpxA0vRe3Ch",
        "outputId": "3c6ffe76-4099-4d9d-8b21-7083f42ab407"
      },
      "execution_count": 20,
      "outputs": [
        {
          "output_type": "stream",
          "name": "stdout",
          "text": [
            "firefox lcp render min/max/median\n",
            "532\n",
            "3030\n",
            "1200.0\n",
            "\n",
            "\n",
            "chrome lcp render min/max/median\n",
            "462\n",
            "6814\n",
            "1440.0\n",
            "\n",
            "\n",
            "firefox/chrome % change: \n",
            "google_restaurants_near_me            180.058224\n",
            "sina                                  124.884488\n",
            "espn_the_comparison                   117.794254\n",
            "m_ebay_kleinanzeigen_de                85.088293\n",
            "m_ebay_kleinanzeigen_de_c199_l3331     83.827807\n",
            "bild_de_super_bowl                     63.542340\n",
            "dailymail_co_uk_experts_say            42.279412\n",
            "bing_restaurants_in_exton_pa_19341     32.311622\n",
            "amazon_mobile_phone                    23.157895\n",
            "booking                                19.527825\n",
            "m_imdb                                 18.406072\n",
            "youtube_COU5T_Wafa4                    16.878049\n",
            "support_microsoft_en_us                13.876967\n",
            "google_pwa                             12.568306\n",
            "m_youtube                              12.198582\n",
            "cnn_why_hurricane                       4.046243\n",
            "allrecipes                              0.874636\n",
            "m_facebook                             -3.666245\n",
            "instagram                              -6.819553\n",
            "reddit                                 -7.833333\n",
            "google                                -13.157895\n",
            "en_m_wikipedia_main_page              -19.488818\n",
            "amazon                                -72.677966\n",
            "Name: lcp_render, dtype: float64\n",
            "\n",
            "\n",
            "min/max/median\n",
            "-72.6779661016949\n",
            "180.05822416302766\n",
            "16.878048780487806\n",
            "\n",
            "\n"
          ]
        }
      ]
    },
    {
      "cell_type": "markdown",
      "source": [],
      "metadata": {
        "id": "S6fZzxnaej20"
      }
    },
    {
      "cell_type": "markdown",
      "source": [
        "# LCP Render compare 2 browsers (firefox/chrome) same element only"
      ],
      "metadata": {
        "id": "XuTFcdw4la4Z"
      }
    },
    {
      "cell_type": "code",
      "source": [
        "# create bool array for all results where LCP elements match.\n",
        "dffx, dfchr\n",
        "dflcpeqp = dffx[\"lcp_element\"] == dfchr[\"lcp_element\"];\n",
        "print(\"df1 len: \" + str(len(dffx.index)));\n",
        "print(\"df2 len: \" + str(len(dfchr.index)));\n",
        "print(\"fenix/chrome lcp matching set length: \" + str(len(dflcpeqp.index)));\n",
        "\n",
        "\n",
        "# filter results for only matching LCP elements.\n",
        "df1_setas1 = dffx[dflcpeqp];\n",
        "print(\"firefox lcp match length: \" + str(len(df1_setas1.index)));\n",
        "\n",
        "\n",
        "df2_setas1 = dfchr[dflcpeqp];\n",
        "print(\"chrome lcp match length: \" + str(len(df2_setas1.index)));\n",
        "\n",
        "\n",
        "compare_2_lcp_values(df1_setas1, df2_setas1)\n",
        "\n",
        "\n"
      ],
      "metadata": {
        "colab": {
          "base_uri": "https://localhost:8080/"
        },
        "outputId": "6ffcffba-2ae5-4282-99b9-39585c00846f",
        "id": "h97rRDPFla4b"
      },
      "execution_count": 21,
      "outputs": [
        {
          "output_type": "stream",
          "name": "stdout",
          "text": [
            "df1 len: 23\n",
            "df2 len: 23\n",
            "fenix/chrome lcp matching set length: 23\n",
            "firefox lcp match length: 9\n",
            "chrome lcp match length: 9\n",
            "firefox lcp render min/max/median\n",
            "544\n",
            "2965\n",
            "1079.0\n",
            "\n",
            "\n",
            "chrome lcp render min/max/median\n",
            "774\n",
            "3544\n",
            "1440.0\n",
            "\n",
            "\n",
            "firefox/chrome % change: \n",
            "espn_the_comparison            117.794254\n",
            "bild_de_super_bowl              63.542340\n",
            "dailymail_co_uk_experts_say     42.279412\n",
            "amazon_mobile_phone             23.157895\n",
            "booking                         19.527825\n",
            "m_imdb                          18.406072\n",
            "youtube_COU5T_Wafa4             16.878049\n",
            "support_microsoft_en_us         13.876967\n",
            "cnn_why_hurricane                4.046243\n",
            "Name: lcp_render, dtype: float64\n",
            "\n",
            "\n",
            "min/max/median\n",
            "4.046242774566474\n",
            "117.79425393883226\n",
            "19.527824620573355\n",
            "\n",
            "\n"
          ]
        }
      ]
    },
    {
      "cell_type": "markdown",
      "source": [
        "# LCP Render compare 2 browsers (firefox/firefox-a11y) same element only"
      ],
      "metadata": {
        "id": "ZO2vRcjtsgtE"
      }
    },
    {
      "cell_type": "code",
      "source": [
        "print(\"firefox a11y enabled\")\n",
        "dffxa11y_all = deserialize_json_metrics_by_browser(data2_file, \"firefox\")\n",
        "dffxa11y = dffxa11y_all.drop('bing')\n",
        "print(dffxa11y)\n",
        "\n",
        "# create bool array for all results where LCP elements match.\n",
        "#dffx, dffxa11y\n",
        "\n",
        "print(\"df1 len: \" + str(len(dffx.index)));\n",
        "print(\"df2 len: \" + str(len(dffxa11y.index)));\n",
        "\n",
        "dflcpeqp = dffx[\"lcp_element\"] == dffxa11y[\"lcp_element\"];\n",
        "print(\"fenix/chrome lcp matching set length: \" + str(len(dflcpeqp.index)));\n",
        "\n",
        "\n",
        "# filter results for only matching LCP elements.\n",
        "df1_setas1 = dffx[dflcpeqp];\n",
        "print(\"firefox lcp match length: \" + str(len(df1_setas1.index)));\n",
        "\n",
        "\n",
        "df2_setas1 = dffxa11y[dflcpeqp];\n",
        "print(\"firefox a11y lcp match length: \" + str(len(df2_setas1.index)));\n",
        "\n",
        "\n",
        "compare_2_lcp_values(df1_setas1, df2_setas1)\n",
        "\n",
        "\n"
      ],
      "metadata": {
        "colab": {
          "base_uri": "https://localhost:8080/"
        },
        "outputId": "f87dfc09-aa4f-4fba-d65a-791808667f64",
        "id": "NwnLxBqBsgtG"
      },
      "execution_count": 30,
      "outputs": [
        {
          "output_type": "stream",
          "name": "stdout",
          "text": [
            "firefox a11y enabled\n",
            "dataframe rows: 24\n",
            "                                     fcp lcp_load lcp_render redirectStart redirectEnd fetchStart domainLookupStart connectStart requestStart responseStart domInteractive domComplete loadEventEnd SpeedIndex VisualComplete85 LastVisualChange                                                                                                                                                                                                                            lcp_element\n",
            "allrecipes                           417      726        746             0           0         -2              30.5         46.5         87.5           242            516         572          578       1972             2917             8775                                       \"\"https://www.allrecipes.com/thmb/HoUlJ4uVESFamOu0fw_fGe1aiJk=/400x250/filters:no_upscale():max_bytes(150000):strip_icc()/1189502_Baked-Shrimp-Scampi-4x3-e9e6b5daa65b4635985fd701999b8de3.jpg\"\"\n",
            "amazon                               617     1861       1896             0           0         -2                22         46.5          103           267            720         826          866       3070             8458            11927                                                                                                                                                                       \"\"https://m.media-amazon.com/images/I/61IlupYtztL._SX1500_.jpg\"\"\n",
            "amazon_mobile_phone                  635      850        861             0           0         -2                24         47.5          107           265           1772        1946         1978       2142             3126            14997                                                                                                       \"\"https://m.media-amazon.com/images/S/al-na-9d5791cf-3faf/b7e14414-a415-4c3d-a38b-c711160ab668._CR0,0,1200,628_SX796_QL70_.jpg\"\"\n",
            "bild_de_super_bowl                  1429     1550       1550             0           0          0              53.5           76          178           232           1542        3274         3289       2315             4710            11630                                                                                                                                    \"\"https://images.bild.de/65cb14f2475f0677d1ce0fed/ffae6892c69fd252783863935b549e78,d6f0f2d8?w=992\"\"\n",
            "bing_restaurants_in_exton_pa_19341   442        0        808             0           0         -2              29.5           48          202           332            933        1008         1021       2266             3285            12283                                                                                                                                                                                               \"\"<div class='ft_otl b_primtxt'></div>\"\"\n",
            "booking                              790        0        847             0           0         -2              25.5           48           86           460            926        1651         1658       1913             3144             8160                                                                                                                                                                \"\"<h1 id='form_search_h1' class='b-no-tap-highlight\\n' style=''></h1>\"\"\n",
            "cnn_why_hurricane                    949     1431       1431             0           0        108               111          114          128           276            324        1399         1402       2510             3398            11782  \"\"https://dynaimage.cdn.cnn.com/cnn/w_768,h_1024,c_scale/https%3A%2F%2Fdynaimage.cdn.cnn.com%2Fcnn%2Fx_873%2Cy_0%2Cw_1500%2Ch_2000%2Cc_crop%2Fhttps%253A%252F%252Fstamp.static.cnn.io%252F5bbe087e4db3d70020c01c46%252Fmichael5.jpg\"\"\n",
            "dailymail_co_uk_experts_say          712      794        811             0           0         -2                17           37          163           554           1371        2281         2285       2962             4744            16489                                                                                                                                                  \"\"https://i.dailymail.co.uk/1s/2021/07/02/15/44961709-0-image-a-2_1625235658934.jpg\"\"\n",
            "en_m_wikipedia_main_page             213      653        662             0           0         -2                19           24         76.5            98            232         467          471       1917             2453             6677                                                                                                                                \"\"https://upload.wikimedia.org/wikipedia/commons/thumb/6/60/WLF2025Banner.png/798px-WLF2025Banner.png\"\"\n",
            "espn_the_comparison                 2445      814        814             0           0        106               108          110          148           227            850        2503         2509       2275             3834            14681                                                                        \"\"https://a.espncdn.com/combiner/i?img=%2Fphoto%2F2019%2F0130%2Fnba_illustration1x_1296x729.png&w=920&h=518&scale=crop&cquality=80&location=origin&format=jpg\"\"\n",
            "google                               455      515        535             0           0         -2              20.5           28          186           358            554        1571         1571       1714             2123             6877                                                                                                                                                 \"\"https://www.google.com/images/branding/googlelogo/2x/googlelogo_color_160x56dp.png\"\"\n",
            "google_pwa                           559     1163       1163             0           0        -10               -10          -10           -4           209            540         575          576       2669             3982            10966                                                                                                                                                                   \"\"blob:https://www.google.com/81e1cf84-55e6-4f7f-b9d2-18cb8da9bca0\"\"\n",
            "google_restaurants_near_me           668        0        671             0         517        524               524          524          531           600            642        2358         2358       1799             2174             5561                                                                                                                                                                          \"\"<div style='font-size:13px; line-break: anywhere;'></div>\"\"\n",
            "instagram                            402     1338       1369             0           0          0              27.5         45.5          125           256            406        1196         1196       2039             2521             6360                                                                                                                                                                   \"\"https://static.cdninstagram.com/rsrc.php/v4/yB/r/E7m8ZCMOFDS.png\"\"\n",
            "m_ebay_kleinanzeigen_de             2120     2196       2196             0           0        292               318          327          443          1110           2347        3818         3820       2509             5726            16350                                                                                                                         \"\"https://img.kleinanzeigen.de/api/v1/prod-ads/images/69/69ef7ba0-88cc-4e29-a7e5-6b3faf14544c?rule=$_35.AUTO\"\"\n",
            "m_ebay_kleinanzeigen_de_c199_l3331  2503     2512       2512             0           0        804               804          804          812          1478           2736        4234         4240       2783             5016             8357                                                                                                                         \"\"https://img.kleinanzeigen.de/api/v1/prod-ads/images/ea/ea5672bd-7d86-476b-a449-6bc27e725ab3?rule=$_12.AUTO\"\"\n",
            "m_facebook                          1210     1319       1370             0           0          0              39.5         76.5          151           351            977        1463         1467       2349             3323             6168                                                                                                                                                                   \"\"https://z-m-static.xx.fbcdn.net/rsrc.php/v4/yh/r/Sg2QOE06yVC.png\"\"\n",
            "m_imdb                              1287     1273       1273             0           0         -2              29.5         51.5         86.5           860           1341        4187         4205       3221             3604            17694                                                                              \"\"https://m.media-amazon.com/images/M/MV5BMGJmYTczNzItNmJmOC00MTZmLWIwY2UtMzMwZGQ2ZjcyZDBkXkEyXkFqcGc@._CR342,0,1364,767_QL75_UY563_CR0,0,1000,563_.jpg\"\"\n",
            "m_youtube                           1066        0       1334             0           0          0                30           42          195           292            963        1780         1784       2415             3435             5455                                                                                                                                                                                                 \"\"<h2 class='feed-nudge-title'></h2>\"\"\n",
            "reddit                               614      990       1058            -2          93       96.5              96.5         96.5          100           246            889        3503         3507       2406             2916            15744                                                                                                                                                   \"\"https://b.thumbs.redditmedia.com/phtnPq9TfTQgbaw9g85q_BU0_0-pb0UYbwGe80rkg_A.jpg\"\"\n",
            "sina                                3080     3195       3277             0           0        770               782          949         1301          1473           4472       11694        11722       3954            10896            23331                                                                             \"\"https://k.sinaimg.cn/n/news/1_img/upload/6e865411/337/w2048h1489/20250214/8e8c-a8a882b91719434d96ae9cbb8ca8e813.jpg/w710h400z1l50t1q7511a.jpg?by=comos\"\"\n",
            "support_microsoft_en_us              501      680        689             0           0         -2                18         39.5           94           124            682        1214         1375       2071             2887             7323                                                                                                                                                    \"\"https://support.microsoft.com/images/en-us/4ee76be2-dfde-4b30-9fd9-94e8aeb0cbf2\"\"\n",
            "youtube_COU5T_Wafa4                  752      764        775             0           0        297               315          322          473           565           1334        1934         1937       2740             3874             7251                                                                                                                                                                                                              \"\"data:image/png;base64\"\"\n",
            "df1 len: 23\n",
            "df2 len: 23\n",
            "fenix/chrome lcp matching set length: 23\n",
            "firefox lcp match length: 14\n",
            "firefox a11y lcp match length: 14\n",
            "firefox lcp render min/max/median\n",
            "532\n",
            "1657\n",
            "892.5\n",
            "\n",
            "\n",
            "chrome lcp render min/max/median\n",
            "535\n",
            "1550\n",
            "812.5\n",
            "\n",
            "\n",
            "firefox/chrome % change: \n",
            "dailymail_co_uk_experts_say    49.080882\n",
            "amazon_mobile_phone            13.289474\n",
            "allrecipes                      8.746356\n",
            "en_m_wikipedia_main_page        5.750799\n",
            "cnn_why_hurricane               3.395954\n",
            "google                          0.563910\n",
            "bild_de_super_bowl              0.193924\n",
            "support_microsoft_en_us        -1.430615\n",
            "google_restaurants_near_me     -2.328967\n",
            "m_youtube                      -5.390071\n",
            "m_facebook                    -13.400759\n",
            "instagram                     -17.380809\n",
            "youtube_COU5T_Wafa4           -24.390244\n",
            "espn_the_comparison           -24.559778\n",
            "Name: lcp_render, dtype: float64\n",
            "\n",
            "\n",
            "min/max/median\n",
            "-24.559777571825762\n",
            "49.080882352941174\n",
            "-0.6183457205926279\n",
            "\n",
            "\n"
          ]
        }
      ]
    }
  ]
}